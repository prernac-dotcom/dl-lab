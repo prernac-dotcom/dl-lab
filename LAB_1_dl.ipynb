{
  "nbformat": 4,
  "nbformat_minor": 0,
  "metadata": {
    "colab": {
      "provenance": [],
      "gpuType": "T4",
      "mount_file_id": "1o_1uzAvjYLmS97kXmHnN0K8lPCIpxLUY",
      "authorship_tag": "ABX9TyNyT9oENarAjkzuuORUDfXN",
      "include_colab_link": true
    },
    "kernelspec": {
      "name": "python3",
      "display_name": "Python 3"
    },
    "language_info": {
      "name": "python"
    },
    "accelerator": "GPU"
  },
  "cells": [
    {
      "cell_type": "markdown",
      "metadata": {
        "id": "view-in-github",
        "colab_type": "text"
      },
      "source": [
        "<a href=\"https://colab.research.google.com/github/prernac-dotcom/dl-lab/blob/main/LAB_1_dl.ipynb\" target=\"_parent\"><img src=\"https://colab.research.google.com/assets/colab-badge.svg\" alt=\"Open In Colab\"/></a>"
      ]
    },
    {
      "cell_type": "code",
      "execution_count": 4,
      "metadata": {
        "id": "sf2srRkGjdKs"
      },
      "outputs": [],
      "source": [
        "import pandas as pd\n",
        "data=pd.read_csv('/content/drive/MyDrive/iris-data.csv')\n"
      ]
    },
    {
      "cell_type": "code",
      "source": [
        "print(data.describe())"
      ],
      "metadata": {
        "colab": {
          "base_uri": "https://localhost:8080/"
        },
        "id": "Bg-mjS9cnkz5",
        "outputId": "9e5e244c-b349-47bf-fa62-274d8f687b2a"
      },
      "execution_count": 5,
      "outputs": [
        {
          "output_type": "stream",
          "name": "stdout",
          "text": [
            "       sepal-length  sepal-width  petal-length   petal-width\n",
            "count    150.000000   150.000000    150.000000    150.000000\n",
            "mean       5.843333     3.054000      3.758667      1.198667\n",
            "std        0.828066     0.433594      1.764420      0.763161\n",
            "min        4.300000     2.000000      1.000000      0.100000\n",
            "25%        5.100000     2.800000      1.600000      0.300000\n",
            "50%        5.800000     3.000000      4.350000      1.300000\n",
            "75%        6.400000     3.300000      5.100000      1.800000\n",
            "max        7.900000     4.400000      6.900000      2.500000\n"
          ]
        }
      ]
    }
  ]
}